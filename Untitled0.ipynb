{
  "nbformat": 4,
  "nbformat_minor": 0,
  "metadata": {
    "colab": {
      "provenance": [],
      "toc_visible": true,
      "authorship_tag": "ABX9TyNDDlDHkmNjLbzQoYBDAS3E",
      "include_colab_link": true
    },
    "kernelspec": {
      "name": "python3",
      "display_name": "Python 3"
    },
    "language_info": {
      "name": "python"
    }
  },
  "cells": [
    {
      "cell_type": "markdown",
      "metadata": {
        "id": "view-in-github",
        "colab_type": "text"
      },
      "source": [
        "<a href=\"https://colab.research.google.com/github/Shafik08/shafik/blob/main/Untitled0.ipynb\" target=\"_parent\"><img src=\"https://colab.research.google.com/assets/colab-badge.svg\" alt=\"Open In Colab\"/></a>"
      ]
    },
    {
      "cell_type": "code",
      "execution_count": 1,
      "metadata": {
        "colab": {
          "base_uri": "https://localhost:8080/"
        },
        "id": "PUrjjaOy6MxF",
        "outputId": "a1342c9d-7662-40bb-bf9b-8277154741d5"
      },
      "outputs": [
        {
          "output_type": "stream",
          "name": "stdout",
          "text": [
            "Sensor Data: [29, 72]\n",
            "Predicted Energy Usage: 870.6923076923077 W\n",
            "Light Status: On\n",
            "\n",
            "Reading 1\n",
            "Temperature: 26 °C\n",
            "Light level: 109\n",
            "Predicted Energy Usage: 1164.6923076923076 W\n",
            "Actions: HVAC: ON , Lights: Off\n",
            "\n",
            "Reading 2\n",
            "Temperature: 27 °C\n",
            "Light level: 93\n",
            "Predicted Energy Usage: 1037.076923076923 W\n",
            "Actions: HVAC: ON , Lights: Off\n",
            "\n",
            "Reading 3\n",
            "Temperature: 28 °C\n",
            "Light level: 73\n",
            "Predicted Energy Usage: 877.1538461538461 W\n",
            "Actions: HVAC: ON , Lights: On\n",
            "\n",
            "Reading 4\n",
            "Temperature: 30 °C\n",
            "Light level: 91\n",
            "Predicted Energy Usage: 1025.7692307692307 W\n",
            "Actions: HVAC: ON , Lights: Off\n",
            "\n",
            "Reading 5\n",
            "Temperature: 27 °C\n",
            "Light level: 101\n",
            "Predicted Energy Usage: 1101.6923076923076 W\n",
            "Actions: HVAC: ON , Lights: Off\n"
          ]
        }
      ],
      "source": [
        "import random\n",
        "from sklearn.linear_model import LinearRegression\n",
        "\n",
        "X_train = [[20, 70], [22, 80], [24, 90], [26, 100], [28, 110]]\n",
        "y_train = [200, 220, 240, 260, 280]\n",
        "\n",
        "y_train = [x * 4.2 for x in y_train]  # 1 unit = 4.2W\n",
        "\n",
        "model = LinearRegression().fit(X_train, y_train)\n",
        "\n",
        "sensor_data = [random.randint(20, 30), random.randint(70, 110)]  # [temperature, light level]\n",
        "\n",
        "predicted_usage = model.predict([sensor_data])[0]\n",
        "\n",
        "if sensor_data[0] > 24 and sensor_data[1] < 90:\n",
        "    light_status = \"On\"\n",
        "else:\n",
        "    light_status = \"Off\"\n",
        "\n",
        "\n",
        "print(\"Sensor Data:\", sensor_data)\n",
        "print(\"Predicted Energy Usage:\", predicted_usage, \"W\")\n",
        "print(\"Light Status:\", light_status)\n",
        "\n",
        "\n",
        "def read_sensors():\n",
        "    return [random.randint(20, 30), random.randint(70, 110)]\n",
        "\n",
        "\n",
        "for i in range(5):\n",
        "    sensor_data = read_sensors()\n",
        "    predicted_usage = model.predict([sensor_data])[0]\n",
        "    if sensor_data[0] > 24 and sensor_data[1] < 90:\n",
        "        light_status = \"On\"\n",
        "    else:\n",
        "        light_status = \"Off\"\n",
        "\n",
        "    print(\"\\nReading\", i+1)\n",
        "    print(\"Temperature:\", sensor_data[0], \"°C\")\n",
        "    print(\"Light level:\", sensor_data[1])\n",
        "    print(\"Predicted Energy Usage:\", predicted_usage, \"W\")\n",
        "    print(\"Actions: HVAC:\", \"ON\" if sensor_data[0] > 24 else \"OFF\", \", Lights:\", light_status)\n",
        ""
      ]
    },
    {
      "cell_type": "code",
      "source": [],
      "metadata": {
        "id": "KgG2QRqg6lIH"
      },
      "execution_count": null,
      "outputs": []
    }
  ]
}